{
 "cells": [
  {
   "cell_type": "markdown",
   "metadata": {},
   "source": [
    "### Will a Customer Accept the Coupon?\n",
    "\n",
    "**Context**\n",
    "\n",
    "Imagine driving through town and a coupon is delivered to your cell phone for a restaraunt near where you are driving. Would you accept that coupon and take a short detour to the restaraunt? Would you accept the coupon but use it on a sunbsequent trip? Would you ignore the coupon entirely? What if the coupon was for a bar instead of a restaraunt? What about a coffee house? Would you accept a bar coupon with a minor passenger in the car? What about if it was just you and your partner in the car? Would weather impact the rate of acceptance? What about the time of day?\n",
    "\n",
    "Obviously, proximity to the business is a factor on whether the coupon is delivered to the driver or not, but what are the factors that determine whether a driver accepts the coupon once it is delivered to them? How would you determine whether a driver is likely to accept a coupon?\n",
    "\n",
    "**Overview**\n",
    "\n",
    "The goal of this project is to use what you know about visualizations and probability distributions to distinguish between customers who accepted a driving coupon versus those that did not.\n",
    "\n",
    "**Data**\n",
    "\n",
    "This data comes to us from the UCI Machine Learning repository and was collected via a survey on Amazon Mechanical Turk. The survey describes different driving scenarios including the destination, current time, weather, passenger, etc., and then ask the person whether he will accept the coupon if he is the driver. Answers that the user will drive there ‘right away’ or ‘later before the coupon expires’ are labeled as ‘Y = 1’ and answers ‘no, I do not want the coupon’ are labeled as ‘Y = 0’.  There are five different types of coupons -- less expensive restaurants (under \\\\$20), coffee houses, carry out & take away, bar, and more expensive restaurants (\\\\$20 - \\\\$50). "
   ]
  },
  {
   "cell_type": "markdown",
   "metadata": {},
   "source": [
    "**Deliverables**\n",
    "\n",
    "Your final product should be a brief report that highlights the differences between customers who did and did not accept the coupons.  To explore the data you will utilize your knowledge of plotting, statistical summaries, and visualization using Python. You will publish your findings in a public facing github repository as your first portfolio piece. \n",
    "\n",
    "\n",
    "\n"
   ]
  },
  {
   "cell_type": "markdown",
   "metadata": {},
   "source": [
    "### Data Description\n",
    "Keep in mind that these values mentioned below are average values.\n",
    "\n",
    "The attributes of this data set include:\n",
    "1. User attributes\n",
    "    -  Gender: male, female\n",
    "    -  Age: below 21, 21 to 25, 26 to 30, etc.\n",
    "    -  Marital Status: single, married partner, unmarried partner, or widowed\n",
    "    -  Number of children: 0, 1, or more than 1\n",
    "    -  Education: high school, bachelors degree, associates degree, or graduate degree\n",
    "    -  Occupation: architecture & engineering, business & financial, etc.\n",
    "    -  Annual income: less than \\\\$12500, \\\\$12500 - \\\\$24999, \\\\$25000 - \\\\$37499, etc.\n",
    "    -  Number of times that he/she goes to a bar: 0, less than 1, 1 to 3, 4 to 8 or greater than 8\n",
    "    -  Number of times that he/she buys takeaway food: 0, less than 1, 1 to 3, 4 to 8 or greater\n",
    "    than 8\n",
    "    -  Number of times that he/she goes to a coffee house: 0, less than 1, 1 to 3, 4 to 8 or\n",
    "    greater than 8\n",
    "    -  Number of times that he/she eats at a restaurant with average expense less than \\\\$20 per\n",
    "    person: 0, less than 1, 1 to 3, 4 to 8 or greater than 8\n",
    "    -  Number of times that he/she goes to a bar: 0, less than 1, 1 to 3, 4 to 8 or greater than 8\n",
    "    \n",
    "\n",
    "2. Contextual attributes\n",
    "    - Driving destination: home, work, or no urgent destination\n",
    "    - Location of user, coupon and destination: we provide a map to show the geographical\n",
    "    location of the user, destination, and the venue, and we mark the distance between each\n",
    "    two places with time of driving. The user can see whether the venue is in the same\n",
    "    direction as the destination.\n",
    "    - Weather: sunny, rainy, or snowy\n",
    "    - Temperature: 30F, 55F, or 80F\n",
    "    - Time: 10AM, 2PM, or 6PM\n",
    "    - Passenger: alone, partner, kid(s), or friend(s)\n",
    "\n",
    "\n",
    "3. Coupon attributes\n",
    "    - time before it expires: 2 hours or one day"
   ]
  },
  {
   "cell_type": "code",
   "execution_count": 92,
   "metadata": {},
   "outputs": [],
   "source": [
    "import matplotlib.pyplot as plt\n",
    "import seaborn as sns\n",
    "import pandas as pd\n",
    "import numpy as np"
   ]
  },
  {
   "cell_type": "markdown",
   "metadata": {},
   "source": [
    "### Problems\n",
    "\n",
    "Use the prompts below to get started with your data analysis.  \n",
    "\n",
    "1. Read in the `coupons.csv` file.\n",
    "\n",
    "\n"
   ]
  },
  {
   "cell_type": "code",
   "execution_count": 107,
   "metadata": {},
   "outputs": [],
   "source": [
    "df = pd.read_csv('data/coupons.csv')"
   ]
  },
  {
   "cell_type": "code",
   "execution_count": 108,
   "metadata": {},
   "outputs": [
    {
     "data": {
      "text/html": [
       "<div>\n",
       "<style scoped>\n",
       "    .dataframe tbody tr th:only-of-type {\n",
       "        vertical-align: middle;\n",
       "    }\n",
       "\n",
       "    .dataframe tbody tr th {\n",
       "        vertical-align: top;\n",
       "    }\n",
       "\n",
       "    .dataframe thead th {\n",
       "        text-align: right;\n",
       "    }\n",
       "</style>\n",
       "<table border=\"1\" class=\"dataframe\">\n",
       "  <thead>\n",
       "    <tr style=\"text-align: right;\">\n",
       "      <th></th>\n",
       "      <th>destination</th>\n",
       "      <th>passanger</th>\n",
       "      <th>weather</th>\n",
       "      <th>temperature</th>\n",
       "      <th>time</th>\n",
       "      <th>coupon</th>\n",
       "      <th>expiration</th>\n",
       "      <th>gender</th>\n",
       "      <th>age</th>\n",
       "      <th>maritalStatus</th>\n",
       "      <th>...</th>\n",
       "      <th>CoffeeHouse</th>\n",
       "      <th>CarryAway</th>\n",
       "      <th>RestaurantLessThan20</th>\n",
       "      <th>Restaurant20To50</th>\n",
       "      <th>toCoupon_GEQ5min</th>\n",
       "      <th>toCoupon_GEQ15min</th>\n",
       "      <th>toCoupon_GEQ25min</th>\n",
       "      <th>direction_same</th>\n",
       "      <th>direction_opp</th>\n",
       "      <th>Y</th>\n",
       "    </tr>\n",
       "  </thead>\n",
       "  <tbody>\n",
       "    <tr>\n",
       "      <th>0</th>\n",
       "      <td>No Urgent Place</td>\n",
       "      <td>Alone</td>\n",
       "      <td>Sunny</td>\n",
       "      <td>55</td>\n",
       "      <td>2PM</td>\n",
       "      <td>Restaurant(&lt;20)</td>\n",
       "      <td>1d</td>\n",
       "      <td>Female</td>\n",
       "      <td>21</td>\n",
       "      <td>Unmarried partner</td>\n",
       "      <td>...</td>\n",
       "      <td>never</td>\n",
       "      <td>NaN</td>\n",
       "      <td>4~8</td>\n",
       "      <td>1~3</td>\n",
       "      <td>1</td>\n",
       "      <td>0</td>\n",
       "      <td>0</td>\n",
       "      <td>0</td>\n",
       "      <td>1</td>\n",
       "      <td>1</td>\n",
       "    </tr>\n",
       "    <tr>\n",
       "      <th>1</th>\n",
       "      <td>No Urgent Place</td>\n",
       "      <td>Friend(s)</td>\n",
       "      <td>Sunny</td>\n",
       "      <td>80</td>\n",
       "      <td>10AM</td>\n",
       "      <td>Coffee House</td>\n",
       "      <td>2h</td>\n",
       "      <td>Female</td>\n",
       "      <td>21</td>\n",
       "      <td>Unmarried partner</td>\n",
       "      <td>...</td>\n",
       "      <td>never</td>\n",
       "      <td>NaN</td>\n",
       "      <td>4~8</td>\n",
       "      <td>1~3</td>\n",
       "      <td>1</td>\n",
       "      <td>0</td>\n",
       "      <td>0</td>\n",
       "      <td>0</td>\n",
       "      <td>1</td>\n",
       "      <td>0</td>\n",
       "    </tr>\n",
       "    <tr>\n",
       "      <th>2</th>\n",
       "      <td>No Urgent Place</td>\n",
       "      <td>Friend(s)</td>\n",
       "      <td>Sunny</td>\n",
       "      <td>80</td>\n",
       "      <td>10AM</td>\n",
       "      <td>Carry out &amp; Take away</td>\n",
       "      <td>2h</td>\n",
       "      <td>Female</td>\n",
       "      <td>21</td>\n",
       "      <td>Unmarried partner</td>\n",
       "      <td>...</td>\n",
       "      <td>never</td>\n",
       "      <td>NaN</td>\n",
       "      <td>4~8</td>\n",
       "      <td>1~3</td>\n",
       "      <td>1</td>\n",
       "      <td>1</td>\n",
       "      <td>0</td>\n",
       "      <td>0</td>\n",
       "      <td>1</td>\n",
       "      <td>1</td>\n",
       "    </tr>\n",
       "    <tr>\n",
       "      <th>3</th>\n",
       "      <td>No Urgent Place</td>\n",
       "      <td>Friend(s)</td>\n",
       "      <td>Sunny</td>\n",
       "      <td>80</td>\n",
       "      <td>2PM</td>\n",
       "      <td>Coffee House</td>\n",
       "      <td>2h</td>\n",
       "      <td>Female</td>\n",
       "      <td>21</td>\n",
       "      <td>Unmarried partner</td>\n",
       "      <td>...</td>\n",
       "      <td>never</td>\n",
       "      <td>NaN</td>\n",
       "      <td>4~8</td>\n",
       "      <td>1~3</td>\n",
       "      <td>1</td>\n",
       "      <td>1</td>\n",
       "      <td>0</td>\n",
       "      <td>0</td>\n",
       "      <td>1</td>\n",
       "      <td>0</td>\n",
       "    </tr>\n",
       "    <tr>\n",
       "      <th>4</th>\n",
       "      <td>No Urgent Place</td>\n",
       "      <td>Friend(s)</td>\n",
       "      <td>Sunny</td>\n",
       "      <td>80</td>\n",
       "      <td>2PM</td>\n",
       "      <td>Coffee House</td>\n",
       "      <td>1d</td>\n",
       "      <td>Female</td>\n",
       "      <td>21</td>\n",
       "      <td>Unmarried partner</td>\n",
       "      <td>...</td>\n",
       "      <td>never</td>\n",
       "      <td>NaN</td>\n",
       "      <td>4~8</td>\n",
       "      <td>1~3</td>\n",
       "      <td>1</td>\n",
       "      <td>1</td>\n",
       "      <td>0</td>\n",
       "      <td>0</td>\n",
       "      <td>1</td>\n",
       "      <td>0</td>\n",
       "    </tr>\n",
       "  </tbody>\n",
       "</table>\n",
       "<p>5 rows × 26 columns</p>\n",
       "</div>"
      ],
      "text/plain": [
       "       destination  passanger weather  temperature  time  \\\n",
       "0  No Urgent Place      Alone   Sunny           55   2PM   \n",
       "1  No Urgent Place  Friend(s)   Sunny           80  10AM   \n",
       "2  No Urgent Place  Friend(s)   Sunny           80  10AM   \n",
       "3  No Urgent Place  Friend(s)   Sunny           80   2PM   \n",
       "4  No Urgent Place  Friend(s)   Sunny           80   2PM   \n",
       "\n",
       "                  coupon expiration  gender age      maritalStatus  ...  \\\n",
       "0        Restaurant(<20)         1d  Female  21  Unmarried partner  ...   \n",
       "1           Coffee House         2h  Female  21  Unmarried partner  ...   \n",
       "2  Carry out & Take away         2h  Female  21  Unmarried partner  ...   \n",
       "3           Coffee House         2h  Female  21  Unmarried partner  ...   \n",
       "4           Coffee House         1d  Female  21  Unmarried partner  ...   \n",
       "\n",
       "   CoffeeHouse CarryAway RestaurantLessThan20 Restaurant20To50  \\\n",
       "0        never       NaN                  4~8              1~3   \n",
       "1        never       NaN                  4~8              1~3   \n",
       "2        never       NaN                  4~8              1~3   \n",
       "3        never       NaN                  4~8              1~3   \n",
       "4        never       NaN                  4~8              1~3   \n",
       "\n",
       "  toCoupon_GEQ5min toCoupon_GEQ15min toCoupon_GEQ25min direction_same  \\\n",
       "0                1                 0                 0              0   \n",
       "1                1                 0                 0              0   \n",
       "2                1                 1                 0              0   \n",
       "3                1                 1                 0              0   \n",
       "4                1                 1                 0              0   \n",
       "\n",
       "  direction_opp  Y  \n",
       "0             1  1  \n",
       "1             1  0  \n",
       "2             1  1  \n",
       "3             1  0  \n",
       "4             1  0  \n",
       "\n",
       "[5 rows x 26 columns]"
      ]
     },
     "execution_count": 108,
     "metadata": {},
     "output_type": "execute_result"
    }
   ],
   "source": [
    "df.head()"
   ]
  },
  {
   "cell_type": "markdown",
   "metadata": {},
   "source": [
    "2. Investigate the dataset for missing or problematic data."
   ]
  },
  {
   "cell_type": "code",
   "execution_count": 109,
   "metadata": {},
   "outputs": [
    {
     "name": "stdout",
     "output_type": "stream",
     "text": [
      "destination                 0\n",
      "passanger                   0\n",
      "weather                     0\n",
      "temperature                 0\n",
      "time                        0\n",
      "coupon                      0\n",
      "expiration                  0\n",
      "gender                      0\n",
      "age                         0\n",
      "maritalStatus               0\n",
      "has_children                0\n",
      "education                   0\n",
      "occupation                  0\n",
      "income                      0\n",
      "car                     12576\n",
      "Bar                       107\n",
      "CoffeeHouse               217\n",
      "CarryAway                 151\n",
      "RestaurantLessThan20      130\n",
      "Restaurant20To50          189\n",
      "toCoupon_GEQ5min            0\n",
      "toCoupon_GEQ15min           0\n",
      "toCoupon_GEQ25min           0\n",
      "direction_same              0\n",
      "direction_opp               0\n",
      "Y                           0\n",
      "dtype: int64\n"
     ]
    }
   ],
   "source": [
    "# Check for missing values\n",
    "print(df.isnull().sum())"
   ]
  },
  {
   "cell_type": "markdown",
   "metadata": {},
   "source": [
    "3. Decide what to do about your missing data -- drop, replace, other..."
   ]
  },
  {
   "cell_type": "code",
   "execution_count": 110,
   "metadata": {},
   "outputs": [
    {
     "name": "stdout",
     "output_type": "stream",
     "text": [
      "destination             0\n",
      "passanger               0\n",
      "weather                 0\n",
      "temperature             0\n",
      "time                    0\n",
      "coupon                  0\n",
      "expiration              0\n",
      "gender                  0\n",
      "age                     0\n",
      "maritalStatus           0\n",
      "has_children            0\n",
      "education               0\n",
      "occupation              0\n",
      "income                  0\n",
      "car                     0\n",
      "Bar                     0\n",
      "CoffeeHouse             0\n",
      "CarryAway               0\n",
      "RestaurantLessThan20    0\n",
      "Restaurant20To50        0\n",
      "toCoupon_GEQ5min        0\n",
      "toCoupon_GEQ15min       0\n",
      "toCoupon_GEQ25min       0\n",
      "direction_same          0\n",
      "direction_opp           0\n",
      "Y                       0\n",
      "dtype: int64\n"
     ]
    }
   ],
   "source": [
    "# Fill missing values for categorical columns with mode\n",
    "df['car'].fillna(df['car'].mode()[0], inplace=True)\n",
    "df['Bar'].fillna(df['Bar'].mode()[0], inplace=True)\n",
    "df['CoffeeHouse'].fillna(df['CoffeeHouse'].mode()[0], inplace=True)\n",
    "df['CarryAway'].fillna(df['CarryAway'].mode()[0], inplace=True)\n",
    "df['RestaurantLessThan20'].fillna(df['RestaurantLessThan20'].mode()[0], inplace=True)\n",
    "df['Restaurant20To50'].fillna(df['Restaurant20To50'].mode()[0], inplace=True)\n",
    "\n",
    "# Verify if missing values are filled\n",
    "print(df.isnull().sum())\n"
   ]
  },
  {
   "cell_type": "markdown",
   "metadata": {},
   "source": [
    "4. What proportion of the total observations chose to accept the coupon? \n",
    "\n"
   ]
  },
  {
   "cell_type": "code",
   "execution_count": 111,
   "metadata": {},
   "outputs": [
    {
     "name": "stdout",
     "output_type": "stream",
     "text": [
      "Proportion of observations that accepted the coupon: 0.5684326710816777\n"
     ]
    }
   ],
   "source": [
    "# Proportion of total observations that chose to accept the coupon\n",
    "accept_coupon_proportion = df['Y'].mean()\n",
    "print(f\"Proportion of observations that accepted the coupon: {accept_coupon_proportion}\")\n"
   ]
  },
  {
   "cell_type": "markdown",
   "metadata": {},
   "source": [
    "5. Use a bar plot to visualize the `coupon` column."
   ]
  },
  {
   "cell_type": "code",
   "execution_count": 112,
   "metadata": {},
   "outputs": [
    {
     "data": {
      "image/png": "[encoded data removed]",
      "text/plain": [
       "<Figure size 640x480 with 1 Axes>"
      ]
     },
     "metadata": {},
     "output_type": "display_data"
    }
   ],
   "source": [
    "# Bar plot for the 'coupon' column\n",
    "df['coupon'].value_counts().plot(kind='bar')\n",
    "plt.title('Distribution of Coupon Types')\n",
    "plt.xlabel('Coupon')\n",
    "plt.ylabel('Count')\n",
    "plt.show()"
   ]
  },
  {
   "cell_type": "markdown",
   "metadata": {},
   "source": [
    "6. Use a histogram to visualize the temperature column."
   ]
  },
  {
   "cell_type": "code",
   "execution_count": 113,
   "metadata": {},
   "outputs": [
    {
     "data": {
      "image/png": "[encoded data removed]",
      "text/plain": [
       "<Figure size 640x480 with 1 Axes>"
      ]
     },
     "metadata": {},
     "output_type": "display_data"
    }
   ],
   "source": [
    "# Histogram for the 'temperature' column\n",
    "df['temperature'].plot(kind='hist', bins=20)\n",
    "plt.title('Temperature Distribution')\n",
    "plt.xlabel('Temperature')\n",
    "plt.ylabel('Frequency')\n",
    "plt.show()\n"
   ]
  },
  {
   "cell_type": "markdown",
   "metadata": {},
   "source": [
    "**Investigating the Bar Coupons**\n",
    "\n",
    "Now, we will lead you through an exploration of just the bar related coupons.  \n",
    "\n",
    "1. Create a new `DataFrame` that contains just the bar coupons.\n"
   ]
  },
  {
   "cell_type": "code",
   "execution_count": 114,
   "metadata": {},
   "outputs": [
    {
     "name": "stdout",
     "output_type": "stream",
     "text": [
      "        destination  passanger weather  temperature  time coupon expiration  \\\n",
      "9   No Urgent Place     Kid(s)   Sunny           80  10AM    Bar         1d   \n",
      "13             Home      Alone   Sunny           55   6PM    Bar         1d   \n",
      "17             Work      Alone   Sunny           55   7AM    Bar         1d   \n",
      "24  No Urgent Place  Friend(s)   Sunny           80  10AM    Bar         1d   \n",
      "35             Home      Alone   Sunny           55   6PM    Bar         1d   \n",
      "\n",
      "    gender age      maritalStatus  ...  CoffeeHouse CarryAway  \\\n",
      "9   Female  21  Unmarried partner  ...        never       1~3   \n",
      "13  Female  21  Unmarried partner  ...        never       1~3   \n",
      "17  Female  21  Unmarried partner  ...        never       1~3   \n",
      "24    Male  21             Single  ...        less1       4~8   \n",
      "35    Male  21             Single  ...        less1       4~8   \n",
      "\n",
      "   RestaurantLessThan20 Restaurant20To50 toCoupon_GEQ5min toCoupon_GEQ15min  \\\n",
      "9                   4~8              1~3                1                 1   \n",
      "13                  4~8              1~3                1                 0   \n",
      "17                  4~8              1~3                1                 1   \n",
      "24                  4~8            less1                1                 0   \n",
      "35                  4~8            less1                1                 0   \n",
      "\n",
      "   toCoupon_GEQ25min direction_same direction_opp  Y  \n",
      "9                  0              0             1  0  \n",
      "13                 0              1             0  1  \n",
      "17                 1              0             1  0  \n",
      "24                 0              0             1  1  \n",
      "35                 0              1             0  1  \n",
      "\n",
      "[5 rows x 26 columns]\n"
     ]
    }
   ],
   "source": [
    "# Create a DataFrame that contains just the bar coupons\n",
    "bar_coupons_df = df[df['coupon'] == 'Bar']\n",
    "print(bar_coupons_df.head())\n"
   ]
  },
  {
   "cell_type": "markdown",
   "metadata": {},
   "source": [
    "2. What proportion of bar coupons were accepted?\n"
   ]
  },
  {
   "cell_type": "code",
   "execution_count": 115,
   "metadata": {},
   "outputs": [
    {
     "name": "stdout",
     "output_type": "stream",
     "text": [
      "Proportion of bar coupons accepted: 0.41001487357461575\n"
     ]
    }
   ],
   "source": [
    "# Proportion of bar coupons that were accepted\n",
    "bar_coupon_acceptance_rate = bar_coupons_df['Y'].mean()\n",
    "print(f\"Proportion of bar coupons accepted: {bar_coupon_acceptance_rate}\")\n"
   ]
  },
  {
   "cell_type": "markdown",
   "metadata": {},
   "source": [
    "3. Compare the acceptance rate between those who went to a bar 3 or fewer times a month to those who went more.\n"
   ]
  },
  {
   "cell_type": "code",
   "execution_count": 116,
   "metadata": {},
   "outputs": [
    {
     "name": "stdout",
     "output_type": "stream",
     "text": [
      "Acceptance rate for those who went to a bar 3 or fewer times a month: 0.37073707370737075\n",
      "Acceptance rate for those who went to a bar more than 3 times a month: 0.7688442211055276\n"
     ]
    }
   ],
   "source": [
    "# Compare acceptance rate based on bar visit frequency\n",
    "few_visits_categories = ['never', 'less1', '1~3']\n",
    "more_visits_categories = ['4~8', 'gt8']\n",
    "\n",
    "few_visits_acceptance_rate = bar_coupons_df[bar_coupons_df['Bar'].isin(few_visits_categories)]['Y'].mean()\n",
    "more_visits_acceptance_rate = bar_coupons_df[bar_coupons_df['Bar'].isin(more_visits_categories)]['Y'].mean()\n",
    "\n",
    "print(f\"Acceptance rate for those who went to a bar 3 or fewer times a month: {few_visits_acceptance_rate}\")\n",
    "print(f\"Acceptance rate for those who went to a bar more than 3 times a month: {more_visits_acceptance_rate}\")\n",
    "\n"
   ]
  },
  {
   "cell_type": "markdown",
   "metadata": {},
   "source": [
    "4. Compare the acceptance rate between drivers who go to a bar more than once a month and are over the age of 25 to the all others.  Is there a difference?\n"
   ]
  },
  {
   "cell_type": "code",
   "execution_count": 117,
   "metadata": {},
   "outputs": [
    {
     "name": "stdout",
     "output_type": "stream",
     "text": [
      "Acceptance rate for those who went to a bar 3 or fewer times a month: 0.37073707370737075\n",
      "Acceptance rate for those who went to a bar more than 3 times a month: 0.7688442211055276\n"
     ]
    }
   ],
   "source": [
    "# Compare acceptance rate based on bar visit frequency\n",
    "few_visits_categories = ['never', 'less1', '1~3']\n",
    "more_visits_categories = ['4~8', 'gt8']\n",
    "\n",
    "few_visits_acceptance_rate = bar_coupons_df[bar_coupons_df['Bar'].isin(few_visits_categories)]['Y'].mean()\n",
    "more_visits_acceptance_rate = bar_coupons_df[bar_coupons_df['Bar'].isin(more_visits_categories)]['Y'].mean()\n",
    "\n",
    "print(f\"Acceptance rate for those who went to a bar 3 or fewer times a month: {few_visits_acceptance_rate}\")\n",
    "print(f\"Acceptance rate for those who went to a bar more than 3 times a month: {more_visits_acceptance_rate}\")\n"
   ]
  },
  {
   "cell_type": "markdown",
   "metadata": {},
   "source": [
    "5. Use the same process to compare the acceptance rate between drivers who go to bars more than once a month and had passengers that were not a kid and had occupations other than farming, fishing, or forestry. \n"
   ]
  },
  {
   "cell_type": "code",
   "execution_count": 118,
   "metadata": {},
   "outputs": [
    {
     "name": "stdout",
     "output_type": "stream",
     "text": [
      "Acceptance rate for condition 5: 0.6223826714801444\n"
     ]
    }
   ],
   "source": [
    "# Step 5: Acceptance rate for drivers who go to bars more than once a month,\n",
    "# had passengers that were not a kid and had occupations other than farming, fishing, or forestry.\n",
    "\n",
    "# Define the condition\n",
    "condition_5 = (df['Bar'].isin(['4~8', 'gt8']) & ~df['passanger'].isin(['Kid(s)']) & ~df['occupation'].isin(['Farming Fishing & Forestry']))\n",
    "\n",
    "# Calculate the acceptance rate\n",
    "acceptance_rate_condition_5 = df[condition_5]['Y'].mean()\n",
    "print(f\"Acceptance rate for condition 5: {acceptance_rate_condition_5}\")\n"
   ]
  },
  {
   "cell_type": "markdown",
   "metadata": {},
   "source": [
    "6. Compare the acceptance rates between those drivers who:\n",
    "\n",
    "- go to bars more than once a month, had passengers that were not a kid, and were not widowed *OR*\n",
    "- go to bars more than once a month and are under the age of 30 *OR*\n",
    "- go to cheap restaurants more than 4 times a month and income is less than 50K. \n",
    "\n"
   ]
  },
  {
   "cell_type": "code",
   "execution_count": 123,
   "metadata": {},
   "outputs": [
    {
     "name": "stdout",
     "output_type": "stream",
     "text": [
      "Acceptance rate for condition 6_1: 0.6223826714801444\n",
      "Acceptance rate for condition 6_2: 0.6475583864118896\n",
      "['4~8' '1~3' 'less1' 'gt8' 'never']\n",
      "['$37500 - $49999' '$62500 - $74999' '$12500 - $24999' '$75000 - $87499'\n",
      " '$50000 - $62499' '$25000 - $37499' '$100000 or More' '$87500 - $99999'\n",
      " 'Less than $12500']\n",
      "Acceptance rate for condition 6_3: 0.6007020623080298\n"
     ]
    }
   ],
   "source": [
    "# Convert age column to numeric, coerce errors to NaN\n",
    "df['age'] = pd.to_numeric(df['age'], errors='coerce')\n",
    "\n",
    "# Step 6: Compare the acceptance rates for different conditions\n",
    "\n",
    "# Define condition 1\n",
    "condition_6_1 = (df['Bar'].isin(['4~8', 'gt8']) & ~df['passanger'].isin(['Kid(s)']) & (df['maritalStatus'] != 'Widowed'))\n",
    "\n",
    "# Calculate acceptance rate for condition 1\n",
    "acceptance_rate_6_1 = df[condition_6_1]['Y'].mean()\n",
    "print(f\"Acceptance rate for condition 6_1: {acceptance_rate_6_1}\")\n",
    "\n",
    "# Define condition 2\n",
    "condition_6_2 = (df['Bar'].isin(['4~8', 'gt8']) & (df['age'] < 30))\n",
    "\n",
    "# Calculate acceptance rate for condition 2\n",
    "acceptance_rate_6_2 = df[condition_6_2]['Y'].mean()\n",
    "print(f\"Acceptance rate for condition 6_2: {acceptance_rate_6_2}\")\n",
    "\n",
    "# Ensure 'RestaurantLessThan20' and 'income' are correct categories\n",
    "print(df['RestaurantLessThan20'].unique())\n",
    "print(df['income'].unique())\n",
    "\n",
    "# Define condition 3 with correct income categories\n",
    "condition_6_3 = (df['RestaurantLessThan20'].isin(['4~8', 'gt8']) & df['income'].isin(['$37500 - $49999', '$12500 - $24999', '$25000 - $37499', 'Less than $12500']))\n",
    "\n",
    "# Calculate acceptance rate for condition 3\n",
    "acceptance_rate_6_3 = df[condition_6_3]['Y'].mean()\n",
    "print(f\"Acceptance rate for condition 6_3: {acceptance_rate_6_3}\")\n",
    "\n"
   ]
  },
  {
   "cell_type": "markdown",
   "metadata": {},
   "source": [
    "7.  Based on these observations, what do you hypothesize about drivers who accepted the bar coupons?"
   ]
  },
  {
   "cell_type": "code",
   "execution_count": 124,
   "metadata": {},
   "outputs": [
    {
     "name": "stdout",
     "output_type": "stream",
     "text": [
      "\n",
      "Based on the observed acceptance rates, it appears that drivers who are more socially active, such as those who go to bars more frequently and have adult passengers, are more likely to accept bar coupons. Additionally, younger drivers and those with lower incomes who frequent affordable restaurants may also have a higher acceptance rate for bar coupons. This suggests that social activity, age, and income levels are significant factors influencing coupon acceptance behavior.\n",
      "\n"
     ]
    }
   ],
   "source": [
    "# Based on the observed acceptance rates, formulate a hypothesis\n",
    "hypothesis = \"\"\"\n",
    "Based on the observed acceptance rates, it appears that drivers who are more socially active, such as those who go to bars more frequently and have adult passengers, are more likely to accept bar coupons. Additionally, younger drivers and those with lower incomes who frequent affordable restaurants may also have a higher acceptance rate for bar coupons. This suggests that social activity, age, and income levels are significant factors influencing coupon acceptance behavior.\n",
    "\"\"\"\n",
    "\n",
    "print(hypothesis)\n"
   ]
  },
  {
   "cell_type": "markdown",
   "metadata": {},
   "source": [
    "### Independent Investigation\n",
    "\n",
    "Using the bar coupon example as motivation, you are to explore one of the other coupon groups and try to determine the characteristics of passengers who accept the coupons.  "
   ]
  },
  {
   "cell_type": "code",
   "execution_count": 126,
   "metadata": {},
   "outputs": [
    {
     "name": "stdout",
     "output_type": "stream",
     "text": [
      "Overall acceptance rate for Coffee House coupons: 0.49924924924924924\n",
      "Acceptance rate by passenger type:\n",
      "passanger\n",
      "Alone        0.437943\n",
      "Friend(s)    0.596906\n",
      "Kid(s)       0.483092\n",
      "Partner      0.570492\n",
      "Name: Y, dtype: float64\n",
      "\n",
      "Acceptance rate by age group:\n",
      "age\n",
      "21.0    0.524349\n",
      "26.0    0.514828\n",
      "31.0    0.476726\n",
      "36.0    0.467662\n",
      "41.0    0.501538\n",
      "46.0    0.513636\n",
      "Name: Y, dtype: float64\n",
      "\n",
      "Acceptance rate by income group:\n",
      "income\n",
      "$100000 or More     0.494382\n",
      "$12500 - $24999     0.540404\n",
      "$25000 - $37499     0.473438\n",
      "$37500 - $49999     0.542373\n",
      "$50000 - $62499     0.503650\n",
      "$62500 - $74999     0.436364\n",
      "$75000 - $87499     0.296610\n",
      "$87500 - $99999     0.557196\n",
      "Less than $12500    0.551948\n",
      "Name: Y, dtype: float64\n",
      "\n",
      "Acceptance rate by occupation:\n",
      "occupation\n",
      "Architecture & Engineering                   0.555556\n",
      "Arts Design Entertainment Sports & Media     0.507177\n",
      "Building & Grounds Cleaning & Maintenance    0.727273\n",
      "Business & Financial                         0.479452\n",
      "Community & Social Services                  0.351351\n",
      "Computer & Mathematical                      0.503341\n",
      "Construction & Extraction                    0.478261\n",
      "Education&Training&Library                   0.435811\n",
      "Farming Fishing & Forestry                   0.545455\n",
      "Food Preparation & Serving Related           0.445783\n",
      "Healthcare Practitioners & Technical         0.743243\n",
      "Healthcare Support                           0.615385\n",
      "Installation Maintenance & Repair            0.568182\n",
      "Legal                                        0.376812\n",
      "Life Physical Social Science                 0.475410\n",
      "Management                                   0.456376\n",
      "Office & Administrative Support              0.431472\n",
      "Personal Care & Service                      0.500000\n",
      "Production Occupations                       0.357143\n",
      "Protective Service                           0.448276\n",
      "Retired                                      0.402439\n",
      "Sales & Related                              0.391549\n",
      "Student                                      0.625251\n",
      "Transportation & Material Moving             0.618421\n",
      "Unemployed                                   0.542105\n",
      "Name: Y, dtype: float64\n"
     ]
    }
   ],
   "source": [
    "# Filter the DataFrame for Coffee House coupons\n",
    "coffee_house_df = df[df['coupon'] == 'Coffee House']\n",
    "\n",
    "# Display the first few rows to inspect the filtered data\n",
    "coffee_house_df.head()\n",
    "\n",
    "# Calculate the overall acceptance rate for Coffee House coupons\n",
    "coffee_house_acceptance_rate = coffee_house_df['Y'].mean()\n",
    "print(f\"Overall acceptance rate for Coffee House coupons: {coffee_house_acceptance_rate}\")\n",
    "\n",
    "# Analyze acceptance rates based on different characteristics\n",
    "\n",
    "# Acceptance rate by passenger type\n",
    "acceptance_rate_by_passenger = coffee_house_df.groupby('passanger')['Y'].mean()\n",
    "print(\"Acceptance rate by passenger type:\")\n",
    "print(acceptance_rate_by_passenger)\n",
    "\n",
    "# Acceptance rate by age group\n",
    "acceptance_rate_by_age = coffee_house_df.groupby('age')['Y'].mean()\n",
    "print(\"\\nAcceptance rate by age group:\")\n",
    "print(acceptance_rate_by_age)\n",
    "\n",
    "# Acceptance rate by income group\n",
    "acceptance_rate_by_income = coffee_house_df.groupby('income')['Y'].mean()\n",
    "print(\"\\nAcceptance rate by income group:\")\n",
    "print(acceptance_rate_by_income)\n",
    "\n",
    "# Acceptance rate by occupation\n",
    "acceptance_rate_by_occupation = coffee_house_df.groupby('occupation')['Y'].mean()\n",
    "print(\"\\nAcceptance rate by occupation:\")\n",
    "print(acceptance_rate_by_occupation)\n",
    "\n",
    "# Add more analyses as needed based on other characteristics\n"
   ]
  }
 ],
 "metadata": {
  "kernelspec": {
   "display_name": "Python 3",
   "language": "python",
   "name": "python3"
  },
  "language_info": {
   "codemirror_mode": {
    "name": "ipython",
    "version": 3
   },
   "file_extension": ".py",
   "mimetype": "text/x-python",
   "name": "python",
   "nbconvert_exporter": "python",
   "pygments_lexer": "ipython3",
   "version": "3.11.2"
  },
  "widgets": {
   "application/vnd.jupyter.widget-state+json": {
    "state": {},
    "version_major": 2,
    "version_minor": 0
   }
  }
 },
 "nbformat": 4,
 "nbformat_minor": 4
}
